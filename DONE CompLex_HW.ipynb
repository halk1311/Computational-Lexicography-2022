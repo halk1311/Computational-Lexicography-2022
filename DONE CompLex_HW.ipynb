{
  "nbformat": 4,
  "nbformat_minor": 0,
  "metadata": {
    "colab": {
      "name": "CompLex HW",
      "provenance": [],
      "authorship_tag": "ABX9TyOIlqjRf4OYNzecUcwG/n6+"
    },
    "kernelspec": {
      "name": "python3",
      "display_name": "Python 3"
    },
    "language_info": {
      "name": "python"
    }
  },
  "cells": [
    {
      "cell_type": "markdown",
      "source": [
        "## WordNet HW"
      ],
      "metadata": {
        "id": "D1sVHmvTB2LB"
      }
    },
    {
      "cell_type": "markdown",
      "source": [
        "1) Cоставьте с помощью WordNet список существительных, которые могут выступать в качестве прямого дополнения при глаголе eat в предложениях вида John eats N\n",
        "(через поиск общего гиперонима для слов meat и potatos)."
      ],
      "metadata": {
        "id": "SXADzKWtCAM6"
      }
    },
    {
      "cell_type": "code",
      "execution_count": 1,
      "metadata": {
        "colab": {
          "base_uri": "https://localhost:8080/"
        },
        "id": "D0e6oDPYB1A9",
        "outputId": "3151403f-cdf5-44a6-fb4b-8d787cba8547"
      },
      "outputs": [
        {
          "output_type": "stream",
          "name": "stdout",
          "text": [
            "[nltk_data] Downloading package wordnet to /root/nltk_data...\n",
            "[nltk_data]   Unzipping corpora/wordnet.zip.\n"
          ]
        },
        {
          "output_type": "execute_result",
          "data": {
            "text/plain": [
              "True"
            ]
          },
          "metadata": {},
          "execution_count": 1
        }
      ],
      "source": [
        "import nltk\n",
        "nltk.download('wordnet')"
      ]
    },
    {
      "cell_type": "code",
      "source": [
        "from nltk.corpus import wordnet as wn"
      ],
      "metadata": {
        "id": "jAYJwBn4DwWa"
      },
      "execution_count": 3,
      "outputs": []
    },
    {
      "cell_type": "code",
      "source": [
        "# смотрим в какие синсеты входят картохе и мясо\n",
        "meat = wn.synsets('meat')\n",
        "potato = wn.synsets('potato')\n",
        "print(meat, potato)"
      ],
      "metadata": {
        "colab": {
          "base_uri": "https://localhost:8080/"
        },
        "id": "u0KGBNYDEALQ",
        "outputId": "25c5ea1a-8f9e-4694-b2b6-9d9fafef7893"
      },
      "execution_count": 8,
      "outputs": [
        {
          "output_type": "stream",
          "name": "stdout",
          "text": [
            "[Synset('meat.n.01'), Synset('kernel.n.01'), Synset('kernel.n.03')] [Synset('potato.n.01'), Synset('potato.n.02')]\n"
          ]
        }
      ]
    },
    {
      "cell_type": "code",
      "source": [
        "# проверяем, подходит ли нам синсет по мясу\n",
        "meat_ex = wn.synset('meat.n.01')\n",
        "print(meat_ex.definition())"
      ],
      "metadata": {
        "colab": {
          "base_uri": "https://localhost:8080/"
        },
        "id": "uVNDHSENEdUD",
        "outputId": "a039aa11-750d-4e4c-e5d9-e51cb69073b7"
      },
      "execution_count": 6,
      "outputs": [
        {
          "output_type": "stream",
          "name": "stdout",
          "text": [
            "the flesh of animals (including fishes and birds and snails) used as food\n"
          ]
        }
      ]
    },
    {
      "cell_type": "code",
      "source": [
        "# проверяем, подходит ли нам синсет по картохе (02 тоже очень похож, возьмем 01)\n",
        "potato_ex = wn.synset('potato.n.01')\n",
        "print(potato_ex.definition())"
      ],
      "metadata": {
        "colab": {
          "base_uri": "https://localhost:8080/"
        },
        "id": "GZc33_3-EwPb",
        "outputId": "dc2a1b99-377c-4d5f-be13-93e1a9fa7422"
      },
      "execution_count": 14,
      "outputs": [
        {
          "output_type": "stream",
          "name": "stdout",
          "text": [
            "an edible tuber native to South America; a staple food of Ireland\n"
          ]
        }
      ]
    },
    {
      "cell_type": "code",
      "source": [
        "# находим общий гипероним\n",
        "food = meat_ex.lowest_common_hypernyms(potato_ex)\n",
        "print(food)"
      ],
      "metadata": {
        "colab": {
          "base_uri": "https://localhost:8080/"
        },
        "id": "fHFtN7iKFntl",
        "outputId": "c9358ca9-8a27-4f46-a737-a5bdd33d9986"
      },
      "execution_count": 31,
      "outputs": [
        {
          "output_type": "stream",
          "name": "stdout",
          "text": [
            "[Synset('food.n.02')]\n"
          ]
        }
      ]
    },
    {
      "cell_type": "code",
      "source": [
        "# собираем список гипонимов-синсетов и для каждого из них находим леммы\n",
        "food_hypo = wn.synset('food.n.02').hyponyms()\n",
        "for sub_s in food_hypo:\n",
        "  print(sub_s.lemma_names())"
      ],
      "metadata": {
        "colab": {
          "base_uri": "https://localhost:8080/"
        },
        "id": "94dCEVHwHGhH",
        "outputId": "594f4b4c-f293-482f-fae9-07030a277673"
      },
      "execution_count": 40,
      "outputs": [
        {
          "output_type": "stream",
          "name": "stdout",
          "text": [
            "['baked_goods']\n",
            "['breakfast_food']\n",
            "['butter']\n",
            "['cheese']\n",
            "['chocolate']\n",
            "['coconut', 'coconut_meat']\n",
            "['convenience_food']\n",
            "['dika_bread']\n",
            "['fish']\n",
            "['fresh_food', 'fresh_foods']\n",
            "['health_food']\n",
            "['junk_food']\n",
            "['leftovers']\n",
            "['loaf']\n",
            "['meat']\n",
            "['pasta', 'alimentary_paste']\n",
            "['produce', 'green_goods', 'green_groceries', 'garden_truck']\n",
            "['seafood']\n",
            "['slop']\n",
            "['yogurt', 'yoghurt', 'yoghourt']\n"
          ]
        }
      ]
    },
    {
      "cell_type": "markdown",
      "source": [
        "2) Найдите 10 ближайших синсетов к синсету 'cow.n.01' (или один самый близкий)."
      ],
      "metadata": {
        "id": "RWwg5YPlWaA4"
      }
    },
    {
      "cell_type": "code",
      "source": [
        "cow = wn.synset('cow.n.01')"
      ],
      "metadata": {
        "id": "iJDJx0fdZMQY"
      },
      "execution_count": 46,
      "outputs": []
    },
    {
      "cell_type": "code",
      "source": [
        "# найдем гипероним для коровы\n",
        "print(wn.synset('cow.n.01').hypernyms())"
      ],
      "metadata": {
        "colab": {
          "base_uri": "https://localhost:8080/"
        },
        "id": "SiZlPvdrWy6u",
        "outputId": "df9f55c4-1dc3-4427-d368-7fe3aa1d0e03"
      },
      "execution_count": 41,
      "outputs": [
        {
          "output_type": "stream",
          "name": "stdout",
          "text": [
            "[Synset('cattle.n.01')]\n"
          ]
        }
      ]
    },
    {
      "cell_type": "code",
      "source": [
        "# предположим, что гипонимы скота и есть наиболее близкие к корове синсеты...\n",
        "cow_cog = wn.synset('cattle.n.01').hyponyms()\n",
        "print(cow_cog)"
      ],
      "metadata": {
        "colab": {
          "base_uri": "https://localhost:8080/"
        },
        "id": "uebaFAo1XF5b",
        "outputId": "dbfd60c2-7ea5-4a3d-dad7-495704359b5a"
      },
      "execution_count": 44,
      "outputs": [
        {
          "output_type": "stream",
          "name": "stdout",
          "text": [
            "[Synset('africander.n.01'), Synset('beef.n.01'), Synset('bull.n.01'), Synset('bullock.n.02'), Synset('cow.n.01'), Synset('dairy_cattle.n.01'), Synset('devon.n.02'), Synset('grade.n.09'), Synset('ox.n.01'), Synset('red_poll.n.01'), Synset('stirk.n.01'), Synset('welsh.n.03')]\n"
          ]
        }
      ]
    },
    {
      "cell_type": "markdown",
      "source": [
        "3) Напишите программу, которая будет позволять использовать MultiWordNet в качестве мультиязычного словаря. Пусть на вход она принимает слово на английском языке,\n",
        "а на выходе дает:\n",
        "\n",
        "- список его значений (т.е. синсетов, к которым оно относится, с определением к каждому синсету);\n",
        "- для каждого значения - варианты его перевода на любой язык, который есть в MultiWordNet (например, на французский или хорватский).\n"
      ],
      "metadata": {
        "id": "bpL_egBpZ-JP"
      }
    },
    {
      "cell_type": "code",
      "source": [
        "nltk.download('omw')"
      ],
      "metadata": {
        "colab": {
          "base_uri": "https://localhost:8080/"
        },
        "id": "RemYVcAJaa3t",
        "outputId": "cecee54c-862e-480d-c9dd-3e9de9f39eb4"
      },
      "execution_count": 48,
      "outputs": [
        {
          "output_type": "stream",
          "name": "stdout",
          "text": [
            "[nltk_data] Downloading package omw to /root/nltk_data...\n",
            "[nltk_data]   Unzipping corpora/omw.zip.\n"
          ]
        },
        {
          "output_type": "execute_result",
          "data": {
            "text/plain": [
              "True"
            ]
          },
          "metadata": {},
          "execution_count": 48
        }
      ]
    },
    {
      "cell_type": "code",
      "source": [
        "word = input('Please type your word \\n')\n",
        "word_synsets = wn.synsets(word)\n",
        "for number, syn in enumerate(word_synsets, start=1):\n",
        "  print(f'{number}) {syn.definition()}')\n",
        "# word = 'elephant'\n",
        "word_s = wn.synsets(word)[0]\n",
        "languages = ['fin', 'fra', 'slv']\n",
        "print('\\nTranslation to other languages:')\n",
        "for lang in languages:\n",
        "  print(f' {lang}: {\", \".join(word_s.lemma_names(lang))}')"
      ],
      "metadata": {
        "colab": {
          "base_uri": "https://localhost:8080/"
        },
        "id": "0OwK2R4Xa6-C",
        "outputId": "fbf5ab37-388f-4c38-bda7-4ad10d37ebee"
      },
      "execution_count": 78,
      "outputs": [
        {
          "output_type": "stream",
          "name": "stdout",
          "text": [
            "Please type your word \n",
            "poop\n",
            "1) obscene terms for feces\n",
            "2) a stupid foolish person\n",
            "3) slang terms for inside information\n",
            "4) the rear part of a ship\n",
            "\n",
            "Translation to other languages:\n",
            " fin: jätökset, jöötti, kakka, kakkapökäle, kökkö, moska, paska\n",
            " fra: caguer, étron, merde\n",
            " slv: drek, govno, sranje\n"
          ]
        }
      ]
    },
    {
      "cell_type": "markdown",
      "source": [
        "## FrameNet HW"
      ],
      "metadata": {
        "id": "obeUTadSr1gr"
      }
    },
    {
      "cell_type": "markdown",
      "source": [
        "4) Найдите все ядерные элементы фрейма Removing."
      ],
      "metadata": {
        "id": "ZrFU2lAMr35n"
      }
    },
    {
      "cell_type": "code",
      "source": [
        "import nltk\n",
        "nltk.download('framenet_v17')"
      ],
      "metadata": {
        "colab": {
          "base_uri": "https://localhost:8080/"
        },
        "id": "cA8hcTYSr7KW",
        "outputId": "1e0c939e-df0f-437d-d95b-65b36561ff2f"
      },
      "execution_count": 1,
      "outputs": [
        {
          "output_type": "stream",
          "name": "stdout",
          "text": [
            "[nltk_data] Downloading package framenet_v17 to /root/nltk_data...\n",
            "[nltk_data]   Unzipping corpora/framenet_v17.zip.\n"
          ]
        },
        {
          "output_type": "execute_result",
          "data": {
            "text/plain": [
              "True"
            ]
          },
          "metadata": {},
          "execution_count": 1
        }
      ]
    },
    {
      "cell_type": "code",
      "source": [
        "from nltk.corpus import framenet as fn"
      ],
      "metadata": {
        "id": "Ekr43SMosNGC"
      },
      "execution_count": 2,
      "outputs": []
    },
    {
      "cell_type": "code",
      "source": [
        "# находим что вообще есть с removing\n",
        "print(fn.frames('Removing'))"
      ],
      "metadata": {
        "colab": {
          "base_uri": "https://localhost:8080/"
        },
        "id": "RDdX0WIvsh6d",
        "outputId": "6f53912c-f85b-4c02-9866-b21b55f06a44"
      },
      "execution_count": 41,
      "outputs": [
        {
          "output_type": "stream",
          "name": "stdout",
          "text": [
            "[<frame ID=63 name=Removing>, <frame ID=1816 name=Removing_scenario>]\n"
          ]
        }
      ]
    },
    {
      "cell_type": "code",
      "source": [
        "# сохраняем фрейм в переменную\n",
        "rem = fn.frame('Removing')"
      ],
      "metadata": {
        "id": "zoHMtaBks63E"
      },
      "execution_count": 42,
      "outputs": []
    },
    {
      "cell_type": "code",
      "source": [
        "# смотрим в душу\n",
        "print(rem)"
      ],
      "metadata": {
        "colab": {
          "base_uri": "https://localhost:8080/"
        },
        "id": "qvulEjN3tHt8",
        "outputId": "2046f5e0-212e-4783-aaad-f30d65e8af88"
      },
      "execution_count": 43,
      "outputs": [
        {
          "output_type": "stream",
          "name": "stdout",
          "text": [
            "frame (63): Removing\n",
            "\n",
            "[URL] https://framenet2.icsi.berkeley.edu/fnReports/data/frame/Removing.xml\n",
            "\n",
            "[definition]\n",
            "  An Agent causes a Theme to move away from a location, the Source.\n",
            "  The Sourceis profiled by the words in this frame, just as the\n",
            "  Goal is profiled in the Placing frame.  'I saw that several men\n",
            "  in dark suits had removed all of the evidence from the scene.'\n",
            "  'With your index finger prise the meat out of the shell' 'The\n",
            "  torrential winds dislodged most of the roof tiles.'\n",
            "\n",
            "[semTypes] 0 semantic types\n",
            "\n",
            "[frameRelations] 13 frame relations\n",
            "  <Parent=Transitive_action -- Inheritance -> Child=Removing>\n",
            "  <Complex=Cause_motion -- Subframe -> Component=Removing>\n",
            "  <Parent=Motion -- Using -> Child=Removing>\n",
            "  <Parent=Removing -- Using -> Child=Dunking>\n",
            "  <Parent=Removing -- Using -> Child=Undressing>\n",
            "  <MainEntry=Cause_motion -- See_also -> ReferringEntry=Removing>\n",
            "  <MainEntry=Placing -- See_also -> ReferringEntry=Removing>\n",
            "  <Source=Removing -- ReFraming_Mapping -> Target=Emptying>\n",
            "  <Source=Removing -- ReFraming_Mapping -> Target=Escaping>\n",
            "  <Source=Removing -- ReFraming_Mapping -> Target=Excreting>\n",
            "  <Source=Removing -- ReFraming_Mapping -> Target=Kidnapping>\n",
            "  <Earlier=Removing -- Precedes -> Later=Placing>\n",
            "  <Neutral=Removing_scenario -- Perspective_on -> Perspectivized=Removing>\n",
            "\n",
            "[lexUnit] 50 lexical units\n",
            "  amputate.v (17368), clear.v (1118), confiscate.v (1119), cut.v\n",
            "  (15163), discard.v (1121), disgorge.v (15616), dislodge.v (1122),\n",
            "  drain.v (1123), dust.v (9371), eject.v (1124), ejection.n (1125),\n",
            "  eliminate.v (1126), elimination.n (1127), empty.v (1128),\n",
            "  evacuate.v (1129), evacuation.n (1130), evict.v (1131),\n",
            "  eviction.n (1132), excise.v (1133), expel.v (1134), expulsion.n\n",
            "  (1135), expunge.v (1136), expurgate.v (4153), extract.v (1137),\n",
            "  extraction.n (13762), file.v (15596), flush.v (15632), oust.v\n",
            "  (1138), pluck.v (1139), prise.v (1140), purge.n (1141), purge.v\n",
            "  (1142), removal.n (1143), remove.v (1144), rinse.v (5428), rip.v\n",
            "  (15161), roust.v (8521), scrape.v (15073), shave.v (5425), skim.v\n",
            "  (1145), snatch.v (1146), strip.v (1147), swipe.v (1148), take.v\n",
            "  (1149), tear.v (15162), unload.v (4150), wash.v (5373), weed.v\n",
            "  (15781), withdraw.v (1150), withdrawal.n (1151)\n",
            "\n",
            "\n",
            "[FE] 23 frame elements\n",
            "            Core: Agent (279), Cause (1926), Source (281), Theme (280)\n",
            "      Peripheral: Degree (1925), Direction (13468), Distance (1927), Goal (283), Instrument (12939), Manner (284), Means (1922), Path (282), Place (9894), Purpose (12943), Time (9893)\n",
            "  Extra-Thematic: Circumstances (12942), Co-timed_event (12941), Cotheme (1929), Depictive (12940), Explanation (12938), Means_of_motion (1928), Particular_iteration (13330), Result (1923)\n",
            "\n",
            "[FEcoreSets] 1 frame element core sets\n",
            "  Cause, Agent\n",
            "\n"
          ]
        }
      ]
    },
    {
      "cell_type": "code",
      "source": [
        "print(rem.FE.Agent.coreType)"
      ],
      "metadata": {
        "colab": {
          "base_uri": "https://localhost:8080/"
        },
        "id": "ns50bU_ftnaS",
        "outputId": "0ff02811-bb89-40d0-8bbb-c87d371f08dc"
      },
      "execution_count": 44,
      "outputs": [
        {
          "output_type": "stream",
          "name": "stdout",
          "text": [
            "Core\n"
          ]
        }
      ]
    },
    {
      "cell_type": "code",
      "source": [
        "for elem in rem.FE:\n",
        "  if rem['FE'][elem]['coreType'] == 'Core':\n",
        "    print(elem)\n",
        "\n",
        "# или так\n",
        "# for elem in rem.FE:\n",
        "#   if rem.FE[elem].coreType == 'Core':\n",
        "#     print(elem)"
      ],
      "metadata": {
        "colab": {
          "base_uri": "https://localhost:8080/"
        },
        "id": "5BAFCENzvrcZ",
        "outputId": "7280e3df-e1e5-4f4e-9223-1cc07c7fe34e"
      },
      "execution_count": 45,
      "outputs": [
        {
          "output_type": "stream",
          "name": "stdout",
          "text": [
            "Agent\n",
            "Theme\n",
            "Source\n",
            "Cause\n"
          ]
        }
      ]
    },
    {
      "cell_type": "markdown",
      "source": [
        "5) Найдите 5 примеров употребления лексемы take.v из фрейма Removing (с разметкой)"
      ],
      "metadata": {
        "id": "3fogxevntTOf"
      }
    },
    {
      "cell_type": "code",
      "source": [
        "# лезем внутрь take\n",
        "rem.lexUnit['take.v']"
      ],
      "metadata": {
        "colab": {
          "base_uri": "https://localhost:8080/"
        },
        "id": "uSuyTofIyUaQ",
        "outputId": "5dcf3286-1082-4778-ccab-e5bf4ddd8287"
      },
      "execution_count": 46,
      "outputs": [
        {
          "output_type": "execute_result",
          "data": {
            "text/plain": [
              "lexical unit (1149): take.v\n",
              "\n",
              "[definition]\n",
              "  COD: remove from a place\n",
              "\n",
              "[frame] Removing(63)\n",
              "\n",
              "[POS] V\n",
              "\n",
              "[status] FN1_Sent\n",
              "\n",
              "[lexemes] take/V\n",
              "\n",
              "[semTypes] 0 semantic types\n",
              "\n",
              "[URL] https://framenet2.icsi.berkeley.edu/fnReports/data/lu/lu1149.xml\n",
              "\n",
              "[subCorpus] 54 subcorpora\n",
              "  V-480-swh, V-540-np-ap, V-550-np-np, V-570-np-ppfrom,\n",
              "  V-570-np-ppin, V-570-np-ppinto, V-570-np-ppoff, V-570-np-\n",
              "  ppto, V-620-np-ppother, V-650-np-pother, V-660-trans-simple,\n",
              "  V-670-pass-by, V-680-pass, V-690-trans-other, V-700-ap,\n",
              "  V-710-adverbaway, V-710-adverboutside, V-730-ppfrom,\n",
              "  V-730-ppin, V-730-ppinto, V-730-ppoff, V-730-ppout,\n",
              "  V-730-ppto, V-780-ppother, V-810-pother, V-820-avpaway,\n",
              "  V-820-avpback, V-820-avpdown, V-820-avpoff, V-820-avpout,\n",
              "  V-829-pass-avpaway, V-829-pass-avpback, V-829-pass-avpdown,\n",
              "  V-829-pass-avpoff, V-829-pass-avpout, V-830-avpaway-np,\n",
              "  V-830-avpback-np, V-830-avpdown-np, V-830-avpoff-np,\n",
              "  V-830-avpout-np, V-840-np-avpaway, V-840-np-avpback,\n",
              "  V-840-np-avpdown, V-840-np-avpoff, V-840-np-avpout,\n",
              "  V-860-avpaway-p, V-860-avpback-p, V-860-avpdown-p,\n",
              "  V-860-avpoff-p, V-860-avpout-p, V-870-avpother,\n",
              "  V-890-intrans-adverb, V-900-other, manually-added\n",
              "\n",
              "[exemplars] 54 sentences across all subcorpora\n"
            ]
          },
          "metadata": {},
          "execution_count": 46
        }
      ]
    },
    {
      "cell_type": "code",
      "source": [
        "for number, elem in enumerate(rem.lexUnit['take.v'].exemplars[0:5], start=1):\n",
        "  print(f' {number}) {elem.text}')"
      ],
      "metadata": {
        "colab": {
          "base_uri": "https://localhost:8080/"
        },
        "id": "jJRPvZfu2-52",
        "outputId": "1bbe6562-2acb-4da1-840a-9b7325f93738"
      },
      "execution_count": 58,
      "outputs": [
        {
          "output_type": "stream",
          "name": "stdout",
          "text": [
            " 1) ` There are always exceptions to the rule , \" he said flatly , taking the laden tray from her hands and turning to go along the terrace to the dining-room . \n",
            " 2) The maid took the plate from her mistress as if it were hot . \n",
            " 3) He was charmed by the tune and took the whole box from her while he listened ; his face reflected an almost childlike absorption . \n",
            " 4) Pioneer European settlers used several methods to take land from indigenous people . \n",
            " 5) She saw his eyes go to the coat fixture , and guessed that he knew the jacket hanging there belonged to Travis when he went and took it from its hanger . \n"
          ]
        }
      ]
    },
    {
      "cell_type": "markdown",
      "source": [
        "6) Найдите все фреймы, в которых Source входит в число ядерных элементов.\n"
      ],
      "metadata": {
        "id": "jXyNtBfG4bai"
      }
    },
    {
      "cell_type": "code",
      "source": [
        "for one_frame in fn.frames():\n",
        "  try:\n",
        "    if one_frame.FE.Source.coreType == 'Core':\n",
        "      print(one_frame.name)\n",
        "  except:\n",
        "    continue"
      ],
      "metadata": {
        "colab": {
          "base_uri": "https://localhost:8080/"
        },
        "id": "IgBh4ts76Oqk",
        "outputId": "97158392-d8e5-4d86-b55b-5496b9b3c8e4"
      },
      "execution_count": 85,
      "outputs": [
        {
          "output_type": "stream",
          "name": "stdout",
          "text": [
            "Becoming_detached\n",
            "Being_detached\n",
            "Bringing\n",
            "Cause_fluidic_motion\n",
            "Cause_motion\n",
            "Container_focused_removing\n",
            "Correctness\n",
            "Cotheme\n",
            "Departing\n",
            "Detaching\n",
            "Emanating\n",
            "Emptying\n",
            "Excreting\n",
            "Fleeing\n",
            "Fluidic_motion\n",
            "Food_gathering\n",
            "Getting_underway\n",
            "Getting_vehicle_underway\n",
            "Intentional_traversing\n",
            "Level_of_light\n",
            "Light_movement\n",
            "Mass_motion\n",
            "Motion\n",
            "Motion_directional\n",
            "Motion_noise\n",
            "Motion_scenario\n",
            "Operate_vehicle\n",
            "Operate_vehicle_scenario\n",
            "Optical_image\n",
            "Passing\n",
            "Path_shape\n",
            "Planned_trajectory\n",
            "Quitting_a_place\n",
            "Removing\n",
            "Removing_scenario\n",
            "Ride_vehicle\n",
            "Robbery\n",
            "Self_motion\n",
            "Sensation\n",
            "Setting_out\n",
            "Smuggling\n",
            "Source_of_getting\n",
            "Source_path_goal\n",
            "Taking\n",
            "Theft\n",
            "Travel\n",
            "Traversing\n",
            "Use_vehicle\n",
            "Vehicle_departure_initial_stage\n",
            "Visiting_scenario_departing\n",
            "Visitor_departure\n"
          ]
        }
      ]
    }
  ]
}